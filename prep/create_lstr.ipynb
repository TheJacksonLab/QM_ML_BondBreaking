{
 "cells": [
  {
   "cell_type": "code",
   "execution_count": 1,
   "id": "cd899359-080b-45f3-bc64-51f9030e7048",
   "metadata": {
    "tags": []
   },
   "outputs": [],
   "source": [
    "import numpy as np\n",
    "import pandas as pd\n",
    "import my_common as mc\n",
    "import extract_local_str as els\n",
    "import scipy.constants as scc"
   ]
  },
  {
   "cell_type": "code",
   "execution_count": 3,
   "id": "96c614fc-3905-45dc-bb16-5d10f642cde8",
   "metadata": {
    "tags": []
   },
   "outputs": [
    {
     "name": "stdout",
     "output_type": "stream",
     "text": [
      "/Volumes/One Touch/DGEBA/react2/melt_21/cooling0d1/compress9x/anneal500_800\n"
     ]
    }
   ],
   "source": [
    "dir_work = ''\n",
    "%cd dir_work\n",
    "\n",
    "bc, bond_info, ac, angle_info, dc, dihedral_info = els.read_bond_info('out_anneal500.dat') # specify\n",
    "bond_idx = bond_info[:,2:].astype(int)-1\n",
    "result,t = els.read_mutiple_xyz('dump_relax.data') # specify \n",
    "bd_neigh = [] ## neighbor list based on bonds\n",
    "for i in range(len(result[-1][4])):\n",
    "    tmp = []\n",
    "    tmp.append(bond_idx[bond_idx[:,0]==i,1])\n",
    "    tmp.append(bond_idx[bond_idx[:,1]==i,0])\n",
    "    tmp = np.concatenate(tmp)\n",
    "    bd_neigh.append(tmp) ##### index in python from 0 "
   ]
  },
  {
   "cell_type": "code",
   "execution_count": 5,
   "id": "73ea26e2-98ab-40a3-a67b-4d7c6e9e0f48",
   "metadata": {},
   "outputs": [],
   "source": [
    "# setup SOAP calculation \n",
    "from dscribe.descriptors import SOAP \n",
    "from ase import Atoms\n",
    "soap = SOAP(\n",
    "    species=['C','H','O','N'],\n",
    "    periodic=True,\n",
    "    r_cut=4,\n",
    "    n_max=1,\n",
    "    l_max=8,\n",
    ")"
   ]
  },
  {
   "cell_type": "code",
   "execution_count": 6,
   "id": "48b01627-9d20-48c0-9bc4-12b109fcb5b4",
   "metadata": {
    "tags": []
   },
   "outputs": [
    {
     "name": "stdout",
     "output_type": "stream",
     "text": [
      "9\n",
      "7\n",
      "43\n",
      "33\n",
      "41\n",
      "37\n",
      "39\n",
      "31\n",
      "47\n",
      "41\n",
      "51\n",
      "41\n",
      "44\n",
      "37\n",
      "32\n",
      "29\n",
      "45\n",
      "33\n",
      "42\n",
      "34\n"
     ]
    }
   ],
   "source": [
    "# %cd react2/melt_84/cooling0d1/deform9x_800/anneal500\n",
    "for ia in range(0,1000,100):\n",
    "    %mkdir ia{ia}\n",
    "\n",
    "    box = result[ia][0]\n",
    "    coors = result[ia][4]\n",
    "    atom_type = result[ia][3]\n",
    "    \n",
    "    #\n",
    "    atom_type_new = np.empty(atom_type.shape,dtype=str)\n",
    "    atom_type_new[atom_type==1] = 'C'\n",
    "    atom_type_new[atom_type==2] = 'C'\n",
    "    atom_type_new[atom_type==3] = 'C'\n",
    "    atom_type_new[atom_type==4] = 'H'\n",
    "    atom_type_new[atom_type==5] = 'H'\n",
    "    atom_type_new[atom_type==6] = 'H'\n",
    "    atom_type_new[atom_type==7] = 'H'\n",
    "    atom_type_new[atom_type==8] = 'N'\n",
    "    atom_type_new[atom_type==9] = 'O'\n",
    "    atom_type_new[atom_type==10] = 'O'\n",
    "    atom_type_new[atom_type==11] = 'O'\n",
    "    case1 = Atoms(atom_type_new,positions=coors,cell=box,pbc=[1,1,1])\n",
    "    input_deform = soap.create(case1)\n",
    "    # end \n",
    "    \n",
    "    bond_length = els.BL(box, coors, bond_idx)\n",
    "    ebond_length = bc[bond_info[:,1].astype(int)-1,2]\n",
    "    ebond_k = bc[bond_info[:,1].astype(int)-1,1]\n",
    "    rstrain_bond = (bond_length-ebond_length)/ebond_length\n",
    "    energy_bond = ebond_k*(bond_length-ebond_length)**2\n",
    "\n",
    "    idx_stretchbonds = np.squeeze(np.argwhere(rstrain_bond>0.1)) ########### 0.17 strain, 20 energy #############\n",
    "    idx_stretchatoms = bond_info[idx_stretchbonds,2:].astype(int)-1\n",
    "    print(idx_stretchbonds.size)\n",
    "\n",
    "    # distance between bonds \n",
    "    # dist_bond_matrix = np.zeros([len(idx_stretchbonds),len(idx_stretchbonds)])\n",
    "    idx_stretchbonds_screen = idx_stretchbonds.copy()\n",
    "    for i in range(idx_stretchbonds.size):\n",
    "        for j in range(i+1,idx_stretchbonds.size):\n",
    "            dcoor = coors[idx_stretchatoms[i],:] - coors[idx_stretchatoms[j],:]\n",
    "            dist1 = np.sum(els.minimum_image(dcoor,box)**2,axis=1)**0.5\n",
    "            dcoor = coors[idx_stretchatoms[i],:] - coors[idx_stretchatoms[j][::-1],:]\n",
    "            dist2 = np.sum(els.minimum_image(dcoor,box)**2,axis=1)**0.5\n",
    "            dist_tmp = np.concatenate((dist1,dist2))\n",
    "            dist_bond = 0.5*np.min(dist_tmp) + 0.5*np.max(dist_tmp)\n",
    "    #         dist_bond_matrix[i,j] = dist_bond \n",
    "    #         dist_bond_matrix[j,i] = dist_bond\n",
    "            if dist_bond < 8:\n",
    "                if rstrain_bond[idx_stretchbonds][i] > rstrain_bond[idx_stretchbonds][j]:\n",
    "                    idx_stretchbonds_screen = idx_stretchbonds_screen[idx_stretchbonds_screen!=idx_stretchbonds[j]]\n",
    "                else:\n",
    "                    idx_stretchbonds_screen = idx_stretchbonds_screen[idx_stretchbonds_screen!=idx_stretchbonds[i]]\n",
    "\n",
    "    idx_stretchbonds = (idx_stretchbonds_screen.copy()).reshape(-1,1)\n",
    "    idx_stretchatoms = (bond_info[idx_stretchbonds,2:].astype(int)-1).reshape(idx_stretchbonds.size,2)\n",
    "    print(idx_stretchbonds.size)\n",
    "\n",
    "    bond_info = bond_info.astype(int)       \n",
    "    for ib in range(idx_stretchbonds.size):  #range(len(idx_stretchbonds))\n",
    "        idx_atom = idx_stretchatoms[ib,:]\n",
    "        n_include,n_inner,atom_type_select,atom_type_add,coors_select,coors_add,idx_atom_interest,idx_inner = \\\n",
    "            els.extr_local_str(idx_atom,box,atom_type,coors,bond_info,bd_neigh,rcut1=8,rcut2=6.5)\n",
    "\n",
    "        bond_info_inner = []\n",
    "        for i in range(len(bond_info)): ##### actually include \n",
    "            if (bond_idx[i,0] in idx_inner) and (bond_idx[i,1] in idx_inner):\n",
    "                tmp1 = int(np.argwhere(idx_inner == bond_idx[i,0]))\n",
    "                tmp2 = int(np.argwhere(idx_inner == bond_idx[i,1]))\n",
    "                bond_info_inner.append(np.array([bond_info[i,0],bond_info[i,1],tmp1,tmp2,bc[bc[:,0]==bond_info[i,1],1][0],bc[bc[:,0]==bond_info[i,1],2][0],\n",
    "                                                energy_bond[i],rstrain_bond[i]]))\n",
    "        bond_info_inner = np.array(bond_info_inner)\n",
    "\n",
    "\n",
    "        atom_type_include = np.concatenate((atom_type_select,atom_type_add))\n",
    "        coors_include = np.vstack((coors_select,coors_add))\n",
    "        !mkdir ia{ia}/elstr{ia}_{ib}_xtb ######## if you change the name, do change the names within 3 lines below\n",
    "        els.write_xyz('ia{}/elstr{}_{}_xtb/lstr.xyz'.format(ia,ia,ib),n_include,atom_type_include.astype('<U1'),coors_include)\n",
    "        els.write_orca_input('ia{}/elstr{}_{}_xtb/lstr.inp'.format(ia,ia,ib),'! XTB2 Opt',1,n_include,atom_type_include,coors_include,n_inner) # ! PBEh-3c TIGHTSCF Opt\\n%geom maxiter 60 end\n",
    "\n",
    "        f = open('ia{}/elstr{}_{}_xtb/index_atom_interest.txt'.format(ia,ia,ib),'w')\n",
    "        f.write('{} {}\\n'.format(idx_atom_interest[0],idx_atom_interest[1]))\n",
    "        f.write('{} {} #ebond_l, ebond_k\\n'.format(ebond_length[idx_stretchbonds][ib],ebond_k[idx_stretchbonds][ib]))\n",
    "        f.write('{} {} #energy, strain\\n\\n'.format(energy_bond[idx_stretchbonds][ib],rstrain_bond[idx_stretchbonds][ib]))\n",
    "        f.write('#bond info inner\\n')\n",
    "        # bond index, bond type, 2 atom index small, 2 index large , k, r0 , energy, rstrain\n",
    "        for i in range(len(bond_info_inner)): \n",
    "            f.write('{0:10d} {1:5d} {2:5d} {3:5d} {4:5d} {5:5d} {6:10.3f} {7:10.3f} {8:10.3f} {9:10.3f}\\n'.format(int(bond_info_inner[i,0]),int(bond_info_inner[i,1]),\\\n",
    "                                                                                  int(bond_info_inner[i,2]),int(bond_info_inner[i,3]),\\\n",
    "                                                                                idx_inner[int(bond_info_inner[i,2])],idx_inner[int(bond_info_inner[i,3])],\\\n",
    "                                                                                 bond_info_inner[i,4],bond_info_inner[i,5],bond_info_inner[i,6],bond_info_inner[i,7]))\n",
    "        f.close()\n",
    "        \n",
    "        soap_bond = []\n",
    "        for i in range(len(bond_info_inner)): \n",
    "            soap_bond.append(np.concatenate((input_deform[idx_inner[int(bond_info_inner[i,2])]],input_deform[idx_inner[int(bond_info_inner[i,3])]])))\n",
    "        soap_bond = pd.DataFrame(soap_bond)\n",
    "        soap_bond.to_csv('ia{}/elstr{}_{}_xtb/soap418.csv'.format(ia,ia,ib),index=False,header=False)\n",
    "        "
   ]
  }
 ],
 "metadata": {
  "kernelspec": {
   "display_name": "Python 3",
   "language": "python",
   "name": "python3"
  },
  "language_info": {
   "codemirror_mode": {
    "name": "ipython",
    "version": 3
   },
   "file_extension": ".py",
   "mimetype": "text/x-python",
   "name": "python",
   "nbconvert_exporter": "python",
   "pygments_lexer": "ipython3",
   "version": "3.8.13"
  },
  "vscode": {
   "interpreter": {
    "hash": "88950f861223a751c8410ea25448a816f37bcda42e23246df02fb0f756b500d3"
   }
  }
 },
 "nbformat": 4,
 "nbformat_minor": 5
}
