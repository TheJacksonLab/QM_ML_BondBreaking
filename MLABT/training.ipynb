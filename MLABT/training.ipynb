{
 "cells": [
  {
   "cell_type": "code",
   "execution_count": 1,
   "metadata": {},
   "outputs": [],
   "source": [
    "import numpy as np\n",
    "import pandas as pd\n",
    "import matplotlib.pyplot as plt\n",
    "from sklearn.linear_model import LogisticRegression\n",
    "from sklearn.model_selection import train_test_split\n",
    "from sklearn.model_selection import cross_validate\n",
    "from sklearn.preprocessing import StandardScaler\n",
    "import sklearn.metrics as skm\n",
    "from sklearn.svm import SVC\n",
    "import pickle\n",
    "\n",
    "from sklearn.metrics import fbeta_score, make_scorer\n",
    "from sklearn.metrics import confusion_matrix\n",
    "fhalf_scorer = make_scorer(fbeta_score, beta=0.5) \n",
    "from sklearn.metrics import precision_recall_curve\n",
    "from scipy.signal import savgol_filter"
   ]
  },
  {
   "attachments": {},
   "cell_type": "markdown",
   "metadata": {},
   "source": [
    "# Model3 ('CG' bonds)"
   ]
  },
  {
   "cell_type": "code",
   "execution_count": null,
   "metadata": {},
   "outputs": [],
   "source": [
    "data = np.concatenate((np.loadtxt('data4_r2_O21_c0d1_9x_700.csv',skiprows=1,delimiter=','),\n",
    "                #    np.loadtxt('data4_r2_O21_c1_9x_900.csv',skiprows=1,delimiter=','),\n",
    "                   np.loadtxt('data4_r2_O21_c0d1_9x_800.csv',skiprows=1,delimiter=','),\n",
    "\n",
    "                   np.loadtxt('data4_r2_O21_c0d1_9x_750.csv',skiprows=1,delimiter=','),\n",
    "                   np.loadtxt('data4_r2_O21_c0d1_9x_850.csv',skiprows=1,delimiter=','),\n",
    "                #    np.loadtxt('data4_r2_O21_c0d1_9x_900.csv',skiprows=1,delimiter=','),\n",
    "\n",
    "                   np.loadtxt('data4_r2_O21_c0d1_8x_800.csv',skiprows=1,delimiter=','),\n",
    "                   np.loadtxt('data4_r2_O163_c0d1_9x_800.csv',skiprows=1,delimiter=','),\n",
    "                   np.loadtxt('data4_r2_O341_c0d1_9x_800.csv',skiprows=1,delimiter=','),\n",
    "                   np.loadtxt('data4_r2_O84_c0d1_9x_800.csv',skiprows=1,delimiter=','),\n",
    "                   ))"
   ]
  },
  {
   "cell_type": "code",
   "execution_count": null,
   "metadata": {},
   "outputs": [],
   "source": [
    "output = data[:,0] # data[:,1]==2\n",
    "inputs = data[:,6:] # SOAP\n",
    "scaler = StandardScaler()\n",
    "scaler.fit(inputs)\n",
    "X2 = scaler.transform(inputs)\n",
    "y2 = output\n",
    "Xtrain, Xtest, ytrain, ytest = train_test_split(X2,y2,test_size=0.2)"
   ]
  },
  {
   "cell_type": "code",
   "execution_count": null,
   "metadata": {},
   "outputs": [],
   "source": [
    "# 5-fold cross validation \n",
    "\n",
    "gmean = []\n",
    "fhalf = []\n",
    "PR_AUC = []\n",
    "\n",
    "for ic in np.logspace(-3,3,7):\n",
    "    model0 = SVC(kernel='rbf',max_iter=1000000,C=ic) \n",
    "    # model0 = LogisticRegression(penalty='l2',max_iter=1000000,C=ic)\n",
    "    fhalf_tmp = []\n",
    "    PR_AUC_tmp = []\n",
    "    gmean_tmp = []\n",
    "    for icv in range(5):\n",
    "        n_each = int(len(Xtrain)/5)\n",
    "        idx_val = np.arange(len(Xtrain))[icv*n_each:(icv+1)*n_each]\n",
    "        idx_train = np.setdiff1d(np.arange(len(Xtrain)),idx_val)\n",
    "        model0.fit(Xtrain[idx_train],ytrain[idx_train])\n",
    "        fhalf_tmp.append(fbeta_score(ytrain[idx_val],model0.predict(Xtrain[idx_val]),beta=0.5))\n",
    "        precision, recall, thresholds = precision_recall_curve(ytrain[idx_val], model0.decision_function(Xtrain[idx_val]))\n",
    "        PR_AUC_tmp = np.sum((precision[:-1]+precision[1:])/2*-np.diff(recall))\n",
    "        tn, fp, fn, tp = confusion_matrix(ytrain[idx_val],model0.predict(Xtrain[idx_val])).ravel()\n",
    "        Sensitivity = tp/(tp+fn)\n",
    "        Specificity = tn/(fp+tn)\n",
    "        gmean_tmp.append(np.sqrt(Sensitivity*Specificity))\n",
    "    # cv_results = cross_validate(model0, Xtrain, ytrain, cv=5, scoring=fhalf_scorer)\n",
    "    # accuracy.append(np.mean(cv_results['test_accuracy']))\n",
    "    fhalf.append(np.mean(fhalf_tmp))\n",
    "    PR_AUC.append(np.mean(PR_AUC_tmp))\n",
    "    gmean.append(np.mean(gmean_tmp))\n",
    "\n",
    "# accuracy = np.array(accuracy)\n",
    "fhalf = np.array(fhalf)\n",
    "PR_AUC = np.array(PR_AUC)\n",
    "gmean = np.array(gmean)\n",
    "\n",
    "print('CV best f0.5 = ', np.max(fhalf), 'and optimal C = ', np.logspace(-3,3,7)[np.argmax(fhalf)])\n",
    "print('CV best AUC = ', np.max(PR_AUC), 'and optimal C = ', np.logspace(-3,3,7)[np.argmax(PR_AUC)])\n",
    "print('CV gmean at best f0.5 = ', gmean[np.argmax(fhalf)], 'and optimal C = ', np.logspace(-3,3,7)[np.argmax(gmean)])\n",
    "\n",
    "C_optimal = np.logspace(-3,3,7)[np.argmax(fhalf)]"
   ]
  },
  {
   "cell_type": "code",
   "execution_count": null,
   "metadata": {},
   "outputs": [],
   "source": [
    "model = SVC(kernel='rbf',max_iter=1000000,C=C_optimal,probability=True) \n",
    "model.fit(X2,y2) # train the model using all data\n",
    "\n",
    "# save the model \n",
    "with open('model3soap.pkl', 'wb') as f:\n",
    "    pickle.dump(model, f)\n",
    "with open('scaler3soap.pkl','wb') as f:\n",
    "    pickle.dump(scaler, f)"
   ]
  }
 ],
 "metadata": {
  "kernelspec": {
   "display_name": "research",
   "language": "python",
   "name": "python3"
  },
  "language_info": {
   "codemirror_mode": {
    "name": "ipython",
    "version": 3
   },
   "file_extension": ".py",
   "mimetype": "text/x-python",
   "name": "python",
   "nbconvert_exporter": "python",
   "pygments_lexer": "ipython3",
   "version": "3.11.0"
  },
  "orig_nbformat": 4
 },
 "nbformat": 4,
 "nbformat_minor": 2
}
