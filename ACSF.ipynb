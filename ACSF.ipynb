{
 "cells": [
  {
   "cell_type": "code",
   "execution_count": 1,
   "id": "912ebef2-b320-4f98-95e6-1aaafbd8cb45",
   "metadata": {},
   "outputs": [],
   "source": [
    "import numpy as np\n",
    "import pandas as pd\n",
    "import matplotlib.pyplot as plt\n",
    "import sys \n",
    "sys.path.insert(1, '/Users/zheng/Research/my_modules')\n",
    "import my_common as mc\n",
    "import extract_local_str as els\n",
    "plt.style.use('science')\n",
    "import scipy.constants as scc\n",
    "import os"
   ]
  },
  {
   "cell_type": "code",
   "execution_count": 2,
   "id": "96ebc64e-64cf-41e3-9e3a-d10ddec73d2a",
   "metadata": {},
   "outputs": [],
   "source": [
    "%load_ext autoreload\n",
    "%autoreload 2"
   ]
  },
  {
   "cell_type": "code",
   "execution_count": 3,
   "id": "63ab7d9d-151e-40d2-b20a-1a2301d44834",
   "metadata": {},
   "outputs": [],
   "source": [
    "from dscribe.descriptors import ACSF\n",
    "\n",
    "# Setting up the ACSF descriptor\n",
    "acsf = ACSF(\n",
    "    species=['C','O','N'],\n",
    "    periodic=True,\n",
    "    rcut=5.0,\n",
    "    g2_params=[[1, 1], [1, 2], [1, 3]],\n",
    "    g4_params=[[1, 1, 1], [1, 2, 1], [1, 1, -1], [1, 2, -1]],\n",
    ")"
   ]
  },
  {
   "cell_type": "code",
   "execution_count": 4,
   "id": "e945f5e1-0405-4950-9307-605f0737a628",
   "metadata": {},
   "outputs": [],
   "source": [
    "from ase import Atoms"
   ]
  },
  {
   "cell_type": "code",
   "execution_count": 5,
   "id": "ea1c0799-d2ad-4901-9be2-2cc17afa6d0e",
   "metadata": {
    "tags": []
   },
   "outputs": [
    {
     "name": "stdout",
     "output_type": "stream",
     "text": [
      "/Volumes/One Touch/DGEBA/react97/cooling_hcl0d1/deform_x80\n"
     ]
    }
   ],
   "source": [
    "%cd /Volumes/One\\ Touch/DGEBA/react97/cooling_hcl0d1/deform_x80/\n",
    "# %cd /Volumes/One\\ Touch/DGEBA/create_structure/CL8\n",
    "\n",
    "bc, bond_info, ac, angle_info, dc, dihedral_info = els.read_bond_info('out_deform9.dat')\n",
    "bond_idx = bond_info[:,2:].astype(int)-1\n",
    "result,t = els.read_mutiple_xyz('dump_relax.data')"
   ]
  },
  {
   "cell_type": "code",
   "execution_count": 8,
   "id": "726d9d39-83b8-4b67-a3f4-884d736593d5",
   "metadata": {},
   "outputs": [],
   "source": [
    "ia = -1\n",
    "box = result[ia][0]\n",
    "coors = result[ia][4]\n",
    "atom_type = result[ia][3]\n",
    "\n",
    "#\n",
    "atom_type_new = np.empty(atom_type.shape,dtype=str)\n",
    "atom_type_new[atom_type==1] = 'C'\n",
    "atom_type_new[atom_type==2] = 'C'\n",
    "atom_type_new[atom_type==3] = 'C'\n",
    "atom_type_new[atom_type==4] = 'H'\n",
    "atom_type_new[atom_type==5] = 'H'\n",
    "atom_type_new[atom_type==6] = 'H'\n",
    "atom_type_new[atom_type==7] = 'H'\n",
    "atom_type_new[atom_type==8] = 'N'\n",
    "atom_type_new[atom_type==9] = 'O'\n",
    "atom_type_new[atom_type==10] = 'O'\n",
    "atom_type_new[atom_type==11] = 'O'\n",
    "#     mc.write_xyz('ia{}/tmp.xyz'.format(ia),len(coors),atom_type_new,coors)\n",
    "case1 = Atoms(atom_type_new,positions=coors,cell=box,pbc=[1,1,1])\n",
    "# case1 = Atoms(atom_type_new[(atom_type_new!='H')],positions=coors[atom_type_new!='H',:],cell=box,pbc=[1,1,1])\n",
    "#     input_deform = soap.create(case1)\n",
    "# input_deform = acsf.create(case1)"
   ]
  },
  {
   "cell_type": "code",
   "execution_count": 12,
   "id": "9727e625-a117-4742-88f0-ecffa7360b14",
   "metadata": {},
   "outputs": [],
   "source": [
    "input_deform = mbtr.create(case1)"
   ]
  },
  {
   "cell_type": "code",
   "execution_count": 14,
   "id": "ca7cf99b-d94d-434e-9754-9e8616feeab4",
   "metadata": {},
   "outputs": [
    {
     "data": {
      "text/plain": [
       "(400,)"
      ]
     },
     "execution_count": 14,
     "metadata": {},
     "output_type": "execute_result"
    }
   ],
   "source": [
    "input_deform.shape"
   ]
  },
  {
   "cell_type": "code",
   "execution_count": 9,
   "id": "2c669df1-1a33-4103-a604-c8c6885a7e8c",
   "metadata": {},
   "outputs": [],
   "source": [
    "# from dscribe.descriptors import ACSF\n",
    "\n",
    "# # Setting up the ACSF descriptor\n",
    "# acsf = ACSF(\n",
    "#     species=[\"H\", \"O\"],\n",
    "#     rcut=6.0,\n",
    "#     g2_params=[[1, 1], [1, 2], [1, 3]],\n",
    "#     g4_params=[[1, 1, 1], [1, 2, 1], [1, 1, -1], [1, 2, -1]],\n",
    "# )\n",
    "\n",
    "# from ase.build import molecule\n",
    "\n",
    "# water = molecule(\"H2O\")\n",
    "\n",
    "# # Create MBTR output for the hydrogen atom at index 1\n",
    "# acsf_water = acsf.create(water, positions=[1])\n",
    "\n",
    "# print(acsf_water)\n",
    "# print(acsf_water.shape)"
   ]
  },
  {
   "cell_type": "code",
   "execution_count": 36,
   "id": "df1c1b43-b796-42c1-b0ef-f9022989a0c8",
   "metadata": {
    "tags": []
   },
   "outputs": [
    {
     "data": {
      "text/plain": [
       "14040"
      ]
     },
     "execution_count": 36,
     "metadata": {},
     "output_type": "execute_result"
    }
   ],
   "source": [
    "len(case1.arrays['numbers'])"
   ]
  },
  {
   "cell_type": "code",
   "execution_count": null,
   "id": "4dbf4111-c95a-4e50-9333-049b348b5288",
   "metadata": {
    "tags": []
   },
   "outputs": [],
   "source": [
    "input_deform = acsf.create(case1)"
   ]
  },
  {
   "cell_type": "code",
   "execution_count": 26,
   "id": "d7bacdb3-de2a-47e4-aa7b-21ea2d931ac6",
   "metadata": {},
   "outputs": [
    {
     "data": {
      "text/plain": [
       "(1016, 56)"
      ]
     },
     "execution_count": 26,
     "metadata": {},
     "output_type": "execute_result"
    }
   ],
   "source": [
    "input_deform.shape"
   ]
  },
  {
   "cell_type": "code",
   "execution_count": 27,
   "id": "a1990ebe-1d90-4be0-8a3c-c346d8f81966",
   "metadata": {},
   "outputs": [],
   "source": [
    "input_deform = acsf.create_single(case1,positions=[0])"
   ]
  },
  {
   "cell_type": "code",
   "execution_count": null,
   "id": "174d34a6-b68f-4ec0-87ba-95bc07f58644",
   "metadata": {},
   "outputs": [],
   "source": []
  }
 ],
 "metadata": {
  "kernelspec": {
   "display_name": "Python 3 (ipykernel)",
   "language": "python",
   "name": "python3"
  },
  "language_info": {
   "codemirror_mode": {
    "name": "ipython",
    "version": 3
   },
   "file_extension": ".py",
   "mimetype": "text/x-python",
   "name": "python",
   "nbconvert_exporter": "python",
   "pygments_lexer": "ipython3",
   "version": "3.8.13"
  }
 },
 "nbformat": 4,
 "nbformat_minor": 5
}
